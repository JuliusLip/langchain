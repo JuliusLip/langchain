{
 "cells": [
  {
   "cell_type": "markdown",
   "metadata": {},
   "source": [
    "# A simple chain for getting answers from a database"
   ]
  },
  {
   "cell_type": "markdown",
   "metadata": {},
   "source": [
    "### Load the environment variables needed for the application"
   ]
  },
  {
   "cell_type": "code",
   "execution_count": null,
   "metadata": {},
   "outputs": [],
   "source": [
    "from dotenv import load_dotenv\n",
    "\n",
    "# Load environment variables from .env file\n",
    "load_dotenv()"
   ]
  },
  {
   "cell_type": "markdown",
   "metadata": {},
   "source": [
    "### Connect to a database to have an access to the data"
   ]
  },
  {
   "cell_type": "code",
   "execution_count": null,
   "metadata": {},
   "outputs": [],
   "source": [
    "from langchain_community.utilities import SQLDatabase\n",
    "\n",
    "# Define the database URI\n",
    "db_uri = \"sqlite:///chinook.db\"\n",
    "\n",
    "# Create a database object\n",
    "db = SQLDatabase.from_uri(db_uri)\n",
    "\n",
    "# Test the connection by printing dialect, listing table names and querying the database\n",
    "print(db.dialect)\n",
    "print(db.get_usable_table_names())\n",
    "db.run(\"SELECT * FROM Artist LIMIT 10;\")"
   ]
  },
  {
   "cell_type": "markdown",
   "metadata": {},
   "source": [
    "### Instantiate LLM model"
   ]
  },
  {
   "cell_type": "code",
   "execution_count": 3,
   "metadata": {},
   "outputs": [],
   "source": [
    "from langchain_openai import ChatOpenAI\n",
    "\n",
    "llm = ChatOpenAI(model=\"gpt-4o-mini\")"
   ]
  },
  {
   "cell_type": "markdown",
   "metadata": {},
   "source": [
    "### Load the tools"
   ]
  },
  {
   "cell_type": "code",
   "execution_count": 4,
   "metadata": {},
   "outputs": [],
   "source": [
    "from langchain_community.agent_toolkits import SQLDatabaseToolkit\n",
    "\n",
    "# Load the SQL tools for AI agent to use\n",
    "toolkit = SQLDatabaseToolkit(db=db, llm=llm)\n",
    "tools = toolkit.get_tools()"
   ]
  },
  {
   "cell_type": "markdown",
   "metadata": {},
   "source": [
    "### Define a State class to preserve all the required valriables accross the steps"
   ]
  },
  {
   "cell_type": "code",
   "execution_count": 5,
   "metadata": {},
   "outputs": [],
   "source": [
    "# from typing_extensions import TypedDict\n",
    "\n",
    "\n",
    "# class State(TypedDict):\n",
    "#     question: str\n",
    "#     query: str\n",
    "#     result: str\n",
    "#     answer: str\n",
    "\n",
    "from langgraph.graph import MessagesState"
   ]
  },
  {
   "cell_type": "markdown",
   "metadata": {},
   "source": [
    "### Pull the prebuilt prompt template for sql query generation"
   ]
  },
  {
   "cell_type": "code",
   "execution_count": 6,
   "metadata": {},
   "outputs": [],
   "source": [
    "# from langchain import hub\n",
    "\n",
    "# system_message = hub.pull(\"langchain-ai/sql-agent-system-prompt\")\n",
    "\n",
    "# assert len(system_message.messages) == 1\n",
    "# system_message.messages[0].pretty_print()\n",
    "\n",
    "message_template = \"\"\"\n",
    "    You are an agent designed to interact with a SQL database.\n",
    "    Given an input question, create a syntactically correct SQLite query to run, then look at the results of the query and return the answer.\n",
    "    Unless the user specifies a specific number of examples they wish to obtain, always limit your query to at most 5 results.\n",
    "    You can order the results by a relevant column to return the most interesting examples in the database.\n",
    "    Never query for all the columns from a specific table, only ask for the relevant columns given the question.\n",
    "    You have access to tools for interacting with the database.\n",
    "    Only use the below tools. Only use the information returned by the below tools to construct your final answer.\n",
    "    You MUST double check your query before executing it. If you get an error while executing a query, rewrite the query and try again.\n",
    "\n",
    "    DO NOT make any DML statements (INSERT, UPDATE, DELETE, DROP etc.) to the database.\n",
    "\n",
    "    To start you should ALWAYS look at the tables in the database to see what you can query.\n",
    "    Do NOT skip this step.\n",
    "    Then you should query the schema of the most relevant tables.\n",
    "    \"\"\"\n",
    "\n",
    "from langchain_core.messages import HumanMessage, SystemMessage\n",
    "\n",
    "# System message\n",
    "sys_msg = SystemMessage(content=message_template)"
   ]
  },
  {
   "cell_type": "markdown",
   "metadata": {},
   "source": [
    "### Bint tools to LLM"
   ]
  },
  {
   "cell_type": "code",
   "execution_count": 7,
   "metadata": {},
   "outputs": [],
   "source": [
    "llm_with_tools = llm.bind_tools(tools)"
   ]
  },
  {
   "cell_type": "code",
   "execution_count": 8,
   "metadata": {},
   "outputs": [],
   "source": [
    "# Node\n",
    "def tool_calling_llm(state: MessagesState):\n",
    "    return {\"messages\": [llm_with_tools.invoke([sys_msg] + state[\"messages\"])]}"
   ]
  },
  {
   "cell_type": "code",
   "execution_count": 9,
   "metadata": {},
   "outputs": [],
   "source": [
    "# from typing_extensions import Annotated\n",
    "# from langchain_community.tools.sql_database.tool import QuerySQLDatabaseTool\n",
    "\n",
    "\n",
    "# class QueryOutput(TypedDict):\n",
    "#     \"\"\"Generated SQL query.\"\"\"\n",
    "#     query: Annotated[str, ..., \"Syntactically valid SQL query.\"]\n",
    "\n",
    "\n",
    "# def write_query(state: State):\n",
    "#     \"\"\"Generate SQL query to fetch information.\"\"\"\n",
    "#     prompt = query_prompt_template.invoke(\n",
    "#         {\n",
    "#             \"dialect\": db.dialect,\n",
    "#             \"top_k\": 10,\n",
    "#             \"table_info\": db.get_table_info(),\n",
    "#             \"input\": state[\"question\"],\n",
    "#         }\n",
    "#     )\n",
    "#     structured_llm = llm.with_structured_output(QueryOutput)\n",
    "#     result = structured_llm.invoke(prompt)\n",
    "    \n",
    "#     return {\"query\": result[\"query\"]}\n",
    "\n",
    "\n",
    "# def execute_query(state: State):\n",
    "#     \"\"\"Execute SQL query.\"\"\"\n",
    "#     execute_query_tool = QuerySQLDatabaseTool(db=db)\n",
    "#     return {\"result\": execute_query_tool.invoke(state[\"query\"])}\n",
    "\n",
    "\n",
    "# def generate_answer(state: State):\n",
    "#     \"\"\"Answer question using retrieved information as context.\"\"\"\n",
    "#     prompt = (\n",
    "#         \"Given the following user question, corresponding SQL query, \"\n",
    "#         \"and SQL result, answer the user question.\\n\\n\"\n",
    "#         f'Question: {state[\"question\"]}\\n'\n",
    "#         f'SQL Query: {state[\"query\"]}\\n'\n",
    "#         f'SQL Result: {state[\"result\"]}'\n",
    "#     )\n",
    "#     response = llm.invoke(prompt)\n",
    "#     return {\"answer\": response.content}"
   ]
  },
  {
   "cell_type": "markdown",
   "metadata": {},
   "source": [
    "### Build a LangGraph graph (router)"
   ]
  },
  {
   "cell_type": "code",
   "execution_count": 10,
   "metadata": {},
   "outputs": [],
   "source": [
    "from langgraph.graph import StateGraph, START, END\n",
    "from langgraph.prebuilt import ToolNode, tools_condition\n",
    "\n",
    "# graph_builder = StateGraph(State).add_sequence(\n",
    "#     [write_query, execute_query, generate_answer]\n",
    "# )\n",
    "# graph_builder.add_edge(START, \"write_query\")\n",
    "# graph = graph_builder.compile()\n",
    "\n",
    "\n",
    "# Build graph\n",
    "builder = StateGraph(MessagesState)\n",
    "builder.add_node(\"tool_calling_llm\", tool_calling_llm)\n",
    "builder.add_node(\"tools\", ToolNode(tools))\n",
    "builder.add_edge(START, \"tool_calling_llm\")\n",
    "builder.add_conditional_edges(\n",
    "    \"tool_calling_llm\",\n",
    "    # If the latest message (result) from assistant is a tool call -> tools_condition routes to tools\n",
    "    # If the latest message (result) from assistant is a not a tool call -> tools_condition routes to END\n",
    "    tools_condition,\n",
    ")\n",
    "builder.add_edge(\"tools\", END)\n",
    "# builder.add_edge(\"tools\", \"tool_calling_llm\")\n",
    "\n",
    "# Compile graph\n",
    "graph = builder.compile()"
   ]
  },
  {
   "cell_type": "markdown",
   "metadata": {},
   "source": [
    "### Visual representation of the graph"
   ]
  },
  {
   "cell_type": "code",
   "execution_count": null,
   "metadata": {},
   "outputs": [],
   "source": [
    "from IPython.display import Image, display\n",
    "\n",
    "display(Image(graph.get_graph().draw_mermaid_png()))"
   ]
  },
  {
   "cell_type": "markdown",
   "metadata": {},
   "source": [
    "### Invoke the graph by providing a question"
   ]
  },
  {
   "cell_type": "code",
   "execution_count": null,
   "metadata": {},
   "outputs": [],
   "source": [
    "# for step in graph.stream(\n",
    "#     {\"question\": \"List the tables in the database\"}, stream_mode=\"updates\"\n",
    "# ):\n",
    "#     print(step)\n",
    "messages = graph.invoke({\"messages\": \"How many users are there?\"})\n",
    "for m in messages['messages']:\n",
    "    m.pretty_print()"
   ]
  }
 ],
 "metadata": {
  "kernelspec": {
   "display_name": ".venv",
   "language": "python",
   "name": "python3"
  },
  "language_info": {
   "codemirror_mode": {
    "name": "ipython",
    "version": 3
   },
   "file_extension": ".py",
   "mimetype": "text/x-python",
   "name": "python",
   "nbconvert_exporter": "python",
   "pygments_lexer": "ipython3",
   "version": "3.12.6"
  }
 },
 "nbformat": 4,
 "nbformat_minor": 2
}
